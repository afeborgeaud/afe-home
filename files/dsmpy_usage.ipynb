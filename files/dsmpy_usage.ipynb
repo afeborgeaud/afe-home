{
 "cells": [
  {
   "cell_type": "markdown",
   "id": "caroline-princess",
   "metadata": {},
   "source": [
    "# dsmpy: usage "
   ]
  },
  {
   "cell_type": "code",
   "execution_count": 1,
   "id": "proof-literature",
   "metadata": {},
   "outputs": [
    {
     "name": "stdout",
     "output_type": "stream",
     "text": [
      "Collecting package metadata (current_repodata.json): done\n",
      "Solving environment: done\n",
      "\n",
      "\n",
      "==> WARNING: A newer version of conda exists. <==\n",
      "  current version: 4.8.3\n",
      "  latest version: 4.9.2\n",
      "\n",
      "Please update conda by running\n",
      "\n",
      "    $ conda update -n base conda\n",
      "\n",
      "\n",
      "\n",
      "## Package Plan ##\n",
      "\n",
      "  environment location: /Users/navy/anaconda3/envs/dsmtmp\n",
      "\n",
      "  added / updated specs:\n",
      "    - dsmpy\n",
      "\n",
      "\n",
      "The following packages will be downloaded:\n",
      "\n",
      "    package                    |            build\n",
      "    ---------------------------|-----------------\n",
      "    lxml-4.6.3                 |   py37h250624f_0         1.2 MB  conda-forge\n",
      "    mpich-3.4.1                |     hd33e60e_104         7.0 MB  conda-forge\n",
      "    sqlalchemy-1.4.3           |   py37h271585c_0         2.2 MB  conda-forge\n",
      "    ------------------------------------------------------------\n",
      "                                           Total:        10.4 MB\n",
      "\n",
      "The following NEW packages will be INSTALLED:\n",
      "\n",
      "  brotlipy           conda-forge/osx-64::brotlipy-0.7.0-py37hf967b71_1001\n",
      "  chardet            conda-forge/osx-64::chardet-4.0.0-py37hf985489_1\n",
      "  cryptography       conda-forge/osx-64::cryptography-3.4.6-py37hce4a858_0\n",
      "  cycler             conda-forge/noarch::cycler-0.10.0-py_2\n",
      "  dsmpy              afeborgeaud/osx-64::dsmpy-1.0a4-py37h41275ba_0\n",
      "  freetype           conda-forge/osx-64::freetype-2.10.4-h4cff582_1\n",
      "  future             conda-forge/osx-64::future-0.18.2-py37hf985489_3\n",
      "  geographiclib      conda-forge/noarch::geographiclib-1.50-py_0\n",
      "  greenlet           conda-forge/osx-64::greenlet-1.0.0-py37hd8d24ac_0\n",
      "  idna               conda-forge/noarch::idna-2.10-pyh9f0ad1d_0\n",
      "  kiwisolver         conda-forge/osx-64::kiwisolver-1.3.1-py37h70f7d40_1\n",
      "  lcms2              conda-forge/osx-64::lcms2-2.12-h577c468_0\n",
      "  libblas            conda-forge/osx-64::libblas-3.9.0-8_openblas\n",
      "  libcblas           conda-forge/osx-64::libcblas-3.9.0-8_openblas\n",
      "  libgfortran        conda-forge/osx-64::libgfortran-5.0.0-9_3_0_h6c81a4c_20\n",
      "  libgfortran5       conda-forge/osx-64::libgfortran5-9.3.0-h6c81a4c_20\n",
      "  liblapack          conda-forge/osx-64::liblapack-3.9.0-8_openblas\n",
      "  libopenblas        conda-forge/osx-64::libopenblas-0.3.12-openmp_h54245bb_1\n",
      "  libtiff            conda-forge/osx-64::libtiff-4.2.0-h355d032_0\n",
      "  libwebp-base       conda-forge/osx-64::libwebp-base-1.2.0-h0d85af4_2\n",
      "  libxml2            conda-forge/osx-64::libxml2-2.9.10-h802ca4f_3\n",
      "  libxslt            conda-forge/osx-64::libxslt-1.1.33-h5739fc3_2\n",
      "  llvm-openmp        conda-forge/osx-64::llvm-openmp-11.1.0-hda6cdc1_0\n",
      "  lxml               conda-forge/osx-64::lxml-4.6.3-py37h250624f_0\n",
      "  matplotlib         conda-forge/osx-64::matplotlib-3.3.4-py37hf985489_0\n",
      "  matplotlib-base    conda-forge/osx-64::matplotlib-base-3.3.4-py37haa7e288_0\n",
      "  mpi                conda-forge/osx-64::mpi-1.0-mpich\n",
      "  mpi4py             conda-forge/osx-64::mpi4py-3.0.3-py37he3c3b00_5\n",
      "  mpich              conda-forge/osx-64::mpich-3.4.1-hd33e60e_104\n",
      "  numpy              conda-forge/osx-64::numpy-1.20.1-py37ha9839cc_0\n",
      "  obspy              conda-forge/osx-64::obspy-1.2.2-py37h10e2902_0\n",
      "  olefile            conda-forge/noarch::olefile-0.46-pyh9f0ad1d_1\n",
      "  pandas             conda-forge/osx-64::pandas-1.2.3-py37hff173d8_0\n",
      "  pillow             conda-forge/osx-64::pillow-8.1.2-py37hd4e48bc_0\n",
      "  pyopenssl          conda-forge/noarch::pyopenssl-20.0.1-pyhd8ed1ab_0\n",
      "  pysocks            conda-forge/osx-64::pysocks-1.7.1-py37hf985489_3\n",
      "  pytz               conda-forge/noarch::pytz-2021.1-pyhd8ed1ab_0\n",
      "  requests           conda-forge/noarch::requests-2.25.1-pyhd3deb0d_0\n",
      "  scipy              conda-forge/osx-64::scipy-1.6.1-py37h0211240_0\n",
      "  sqlalchemy         conda-forge/osx-64::sqlalchemy-1.4.3-py37h271585c_0\n",
      "  urllib3            conda-forge/noarch::urllib3-1.26.4-pyhd8ed1ab_0\n",
      "\n",
      "\n",
      "\n",
      "Downloading and Extracting Packages\n",
      "mpich-3.4.1          | 7.0 MB    | ##################################### | 100% \n",
      "sqlalchemy-1.4.3     | 2.2 MB    | ##################################### | 100% \n",
      "lxml-4.6.3           | 1.2 MB    | ##################################### | 100% \n",
      "Preparing transaction: done\n",
      "Verifying transaction: done\n",
      "Executing transaction: done\n"
     ]
    }
   ],
   "source": [
    "!conda install -c conda-forge -c afeborgeaud dsmpy -y"
   ]
  },
  {
   "cell_type": "code",
   "execution_count": 5,
   "id": "persistent-provider",
   "metadata": {},
   "outputs": [],
   "source": [
    "from dsmpy import dsm, seismicmodel\n",
    "from dsmpy.event import Event\n",
    "from dsmpy.station import Station\n",
    "from dsmpy.utils.cmtcatalog import read_catalog"
   ]
  },
  {
   "cell_type": "code",
   "execution_count": 6,
   "id": "explicit-quality",
   "metadata": {},
   "outputs": [
    {
     "name": "stdout",
     "output_type": "stream",
     "text": [
      "Dowloading gcmt catalog.\n",
      "Takes a few minutes. Done only once.\n"
     ]
    }
   ],
   "source": [
    "# download the Global Centroid Moment Tensor catalog (https://www.globalcmt.org/)\n",
    "catalog = read_catalog()"
   ]
  },
  {
   "cell_type": "code",
   "execution_count": 7,
   "id": "smaller-playing",
   "metadata": {},
   "outputs": [],
   "source": [
    "# get and event from the GCMT catalog\n",
    "event = Event.event_from_catalog(\n",
    "    catalog, '200707211534A')"
   ]
  },
  {
   "cell_type": "code",
   "execution_count": 8,
   "id": "destroyed-mount",
   "metadata": {},
   "outputs": [],
   "source": [
    "# define an array of seismic stations\n",
    "stations = [\n",
    "    Station(\n",
    "        name='FCC', network='CN',\n",
    "        latitude=58.7592, longitude=-94.0884), \n",
    "    ]"
   ]
  },
  {
   "cell_type": "code",
   "execution_count": 10,
   "id": "binding-roller",
   "metadata": {},
   "outputs": [],
   "source": [
    "# use the seismic model PREM (http://ds.iris.edu/spud/earthmodel/9991844)\n",
    "seismic_model = seismicmodel.SeismicModel.prem()"
   ]
  },
  {
   "cell_type": "code",
   "execution_count": null,
   "id": "focused-africa",
   "metadata": {},
   "outputs": [],
   "source": [
    "# set the record length, number of points in freqency domain, and time sampling\n",
    "tlen = 3276.8\n",
    "nspc = 256\n",
    "sampling_hz = 20"
   ]
  },
  {
   "cell_type": "code",
   "execution_count": 11,
   "id": "quantitative-dancing",
   "metadata": {},
   "outputs": [],
   "source": [
    "input = dsm.PyDSMInput.input_from_arrays(\n",
    "    event, stations, seismic_model, tlen, nspc, sampling_hz)"
   ]
  },
  {
   "cell_type": "code",
   "execution_count": 22,
   "id": "angry-opportunity",
   "metadata": {},
   "outputs": [
    {
     "name": "stdout",
     "output_type": "stream",
     "text": [
      "compute PSV\n",
      "compute SH\n"
     ]
    }
   ],
   "source": [
    "# compute the seismic waveforms (done in the frequency domain)\n",
    "output = dsm.compute(input)"
   ]
  },
  {
   "cell_type": "code",
   "execution_count": 23,
   "id": "sixth-vitamin",
   "metadata": {},
   "outputs": [],
   "source": [
    "# transform to the time domain using inverse FFT and apply a low-pass filter\n",
    "output.to_time_domain()\n",
    "output.filter(freq=0.04)"
   ]
  },
  {
   "cell_type": "code",
   "execution_count": 24,
   "id": "asian-temple",
   "metadata": {},
   "outputs": [],
   "source": [
    "%matplotlib inline\n",
    "import matplotlib.pyplot as plt"
   ]
  },
  {
   "cell_type": "code",
   "execution_count": 25,
   "id": "pursuant-webcam",
   "metadata": {},
   "outputs": [
    {
     "data": {
      "image/png": "[encoded data removed]",
      "text/plain": [
       "<Figure size 432x288 with 3 Axes>"
      ]
     },
     "metadata": {
      "needs_background": "light"
     },
     "output_type": "display_data"
    }
   ],
   "source": [
    "output.plot()\n",
    "plt.show()"
   ]
  },
  {
   "cell_type": "code",
   "execution_count": null,
   "id": "similar-opera",
   "metadata": {},
   "outputs": [],
   "source": []
  }
 ],
 "metadata": {
  "kernelspec": {
   "display_name": "dsmtmp",
   "language": "python",
   "name": "dsmtmp"
  },
  "language_info": {
   "codemirror_mode": {
    "name": "ipython",
    "version": 3
   },
   "file_extension": ".py",
   "mimetype": "text/x-python",
   "name": "python",
   "nbconvert_exporter": "python",
   "pygments_lexer": "ipython3",
   "version": "3.7.10"
  }
 },
 "nbformat": 4,
 "nbformat_minor": 5
}
